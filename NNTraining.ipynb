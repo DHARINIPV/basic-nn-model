{
  "cells": [
    {
      "cell_type": "markdown",
      "metadata": {},
      "source": [
        "Name: Dharini PV\n",
        "\n",
        "Register Number: 212222240024"
      ]
    },
    {
      "cell_type": "code",
      "execution_count": null,
      "metadata": {
        "id": "-R75Zi95ebFz"
      },
      "outputs": [],
      "source": [
        "import pandas as pd\n",
        "import seaborn as sns\n",
        "from sklearn.model_selection import train_test_split\n",
        "from sklearn.preprocessing import MinMaxScaler\n",
        "from tensorflow.keras.models import Sequential\n",
        "from tensorflow.keras.layers import Dense,Dropout"
      ]
    },
    {
      "cell_type": "code",
      "execution_count": null,
      "metadata": {
        "id": "B-HMSHXAhYMG"
      },
      "outputs": [],
      "source": [
        "from google.colab import auth\n",
        "import gspread\n",
        "from google.auth import default\n",
        "import pandas as pd\n",
        "auth.authenticate_user()\n",
        "creds, _ = default()\n",
        "gc = gspread.authorize(creds)\n",
        "worksheet = gc.open('dl_exp1').sheet1\n",
        "rows = worksheet.get_all_values()\n",
        "df = pd.DataFrame(rows[1:], columns=rows[0])"
      ]
    },
    {
      "cell_type": "code",
      "execution_count": null,
      "metadata": {
        "id": "wLX95j6WhtyS"
      },
      "outputs": [],
      "source": [
        "df = df.astype({'INPUT':'float'})\n",
        "df = df.astype({'OUTPUT':'float'})\n",
        "df\n",
        "x=df[['INPUT']].values\n",
        "y=df[['OUTPUT']].values"
      ]
    },
    {
      "cell_type": "code",
      "execution_count": null,
      "metadata": {
        "id": "zr8AscTEh3-9"
      },
      "outputs": [],
      "source": [
        "x_train,x_test,y_train,y_test=train_test_split(x,y,test_size=0.33,random_state=33)\n",
        "scaler=MinMaxScaler()\n",
        "scaler.fit(x_train)\n",
        "x_train1=scaler.transform(x_train)"
      ]
    },
    {
      "cell_type": "markdown",
      "metadata": {},
      "source": [
        "Name: Dharini PV\n",
        "\n",
        "Register Number: 212222240024"
      ]
    },
    {
      "cell_type": "code",
      "execution_count": null,
      "metadata": {
        "id": "3mRTCTEKsk8B"
      },
      "outputs": [],
      "source": [
        "from tensorflow.keras.models import Sequential\n",
        "from tensorflow.keras.layers import Dense\n",
        "AI=Sequential([\n",
        "    Dense(units=5,activation='relu',input_shape=[1]),\n",
        "    Dense(units=3,activation='relu'),\n",
        "    Dense(units=4,activation='relu'),\n",
        "    Dense(units=1)\n",
        "])"
      ]
    },
    {
      "cell_type": "code",
      "execution_count": null,
      "metadata": {
        "id": "8CX1LVRKtGnR"
      },
      "outputs": [],
      "source": [
        "AI.compile(optimizer='rmsprop',loss='mse')"
      ]
    },
    {
      "cell_type": "code",
      "execution_count": null,
      "metadata": {
        "id": "eLzXWdNftWCN"
      },
      "outputs": [],
      "source": [
        "AI.fit(x_train1,y_train,epochs=2000)"
      ]
    },
    {
      "cell_type": "code",
      "execution_count": null,
      "metadata": {
        "id": "6O9uwlXE9US9"
      },
      "outputs": [],
      "source": [
        "loss_df = pd.DataFrame(AI.history.history)"
      ]
    },
    {
      "cell_type": "code",
      "execution_count": null,
      "metadata": {
        "id": "l6FxrB46KBW6"
      },
      "outputs": [],
      "source": [
        "loss_df.plot()"
      ]
    },
    {
      "cell_type": "code",
      "execution_count": null,
      "metadata": {
        "id": "IeKksmbccMRW"
      },
      "outputs": [],
      "source": [
        "X_test1 = scaler.transform(x_test)"
      ]
    },
    {
      "cell_type": "code",
      "execution_count": null,
      "metadata": {
        "colab": {
          "base_uri": "https://localhost:8080/"
        },
        "id": "2wkkWYPLt6xS",
        "outputId": "9d46ad23-06cb-45c1-fabe-4dcfcdf331db"
      },
      "outputs": [
        {
          "name": "stdout",
          "output_type": "stream",
          "text": [
            "1/1 [==============================] - 0s 167ms/step - loss: 3367.3967\n"
          ]
        },
        {
          "data": {
            "text/plain": [
              "3367.396728515625"
            ]
          },
          "execution_count": 34,
          "metadata": {},
          "output_type": "execute_result"
        }
      ],
      "source": [
        "AI.evaluate(X_test1,y_test)"
      ]
    },
    {
      "cell_type": "code",
      "execution_count": null,
      "metadata": {
        "id": "iRqOpttkum_V"
      },
      "outputs": [],
      "source": [
        "x_n1 = [[5]]"
      ]
    },
    {
      "cell_type": "code",
      "execution_count": null,
      "metadata": {
        "id": "oLG84oLFvr6x"
      },
      "outputs": [],
      "source": [
        "x_n1_1 = scaler.transform(x_n1)"
      ]
    },
    {
      "cell_type": "code",
      "execution_count": null,
      "metadata": {
        "id": "Wj2lf0ldLHON"
      },
      "outputs": [],
      "source": [
        "AI.predict(x_n1_1)"
      ]
    }
  ],
  "metadata": {
    "colab": {
      "provenance": [],
      "toc_visible": true
    },
    "kernelspec": {
      "display_name": "Python 3",
      "name": "python3"
    },
    "language_info": {
      "name": "python"
    }
  },
  "nbformat": 4,
  "nbformat_minor": 0
}
